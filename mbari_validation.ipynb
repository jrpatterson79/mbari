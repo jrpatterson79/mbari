{
 "cells": [
  {
   "cell_type": "markdown",
   "metadata": {},
   "source": [
    "## Import packages"
   ]
  },
  {
   "cell_type": "code",
   "execution_count": null,
   "metadata": {},
   "outputs": [],
   "source": [
    "import os\n",
    "import pandas as pd\n",
    "import numpy as np\n",
    "import matplotlib.pyplot as plt"
   ]
  },
  {
   "cell_type": "markdown",
   "metadata": {},
   "source": [
    "## Define functions"
   ]
  },
  {
   "cell_type": "code",
   "execution_count": null,
   "metadata": {},
   "outputs": [],
   "source": [
    "def periodic_uniax(period, c, z, amp, gamma):\n",
    "    omega = (2 * np.pi) / period\n",
    "    arg = omega / (2*c)\n",
    "    exp_1 = np.exp(-z * np.sqrt(arg))\n",
    "    exp_2 = np.exp(-1j*z*np.sqrt(arg))\n",
    "    phasor = (gamma * amp) + ((1-gamma)*amp*exp_1*exp_2)\n",
    "    return phasor\n",
    "\n",
    "def periodic_fit_lst_sq(time, signal, period):\n",
    "    num_times = len(time)\n",
    "    num_per = len(period)\n",
    "\n",
    "    omega = (2*np.pi)/period\n",
    "    \n",
    "    G = np.zeros((num_times,2*num_per))\n",
    "    G[:,0] = np.ndarray.flatten(np.cos(omega * time))\n",
    "    G[:,1] = np.ndarray.flatten(-np.sin(omega * time))\n",
    "    \n",
    "    phasor = np.linalg.solve(np.transpose(G) @ G, np.transpose(G) @ signal)\n",
    "    return phasor"
   ]
  },
  {
   "cell_type": "markdown",
   "metadata": {},
   "source": [
    "## Specify directories / input files"
   ]
  },
  {
   "cell_type": "code",
   "execution_count": null,
   "metadata": {},
   "outputs": [],
   "source": [
    "input_file = './mbari_low_freq.i'\n",
    "exe_file = './moose'\n",
    "results_folder = './out_files'\n",
    "results_file = 'mbari.csv'\n",
    "file_prefix = 'mbari_depth_pp_'"
   ]
  },
  {
   "cell_type": "markdown",
   "metadata": {},
   "source": [
    "## Model run"
   ]
  },
  {
   "cell_type": "code",
   "execution_count": null,
   "metadata": {},
   "outputs": [],
   "source": [
    "run_command = exe_file+' '+ '-i'+' '+input_file+' '\n",
    "os.system(run_command)"
   ]
  },
  {
   "cell_type": "markdown",
   "metadata": {},
   "source": [
    "## Specify hydromechanical properties"
   ]
  },
  {
   "cell_type": "code",
   "execution_count": null,
   "metadata": {},
   "outputs": [],
   "source": [
    "% Fluid Properties\n",
    "mu = 1.26e-3;\n",
    "Kf = 2e9;\n",
    "\n",
    "% Seafloor Sediment Elastic Properties\n",
    "Kd = 3.4e8;\n",
    "G = 2.2e8;\n",
    "biot = 0.9;\n",
    "eta = 0.25\n",
    "\n",
    "% Derived Elastic Properties\n",
    "M_inv = (eta/Kf) + (((1-biot)*(biot-eta))/Kd);\n",
    "M = 1/M_inv;\n",
    "Ku = Kd + (biot^2 * M);\n",
    "nu = ((3*Kd)-(2*G))/(2*((3*Kd)+G));\n",
    "nu_u = ((3*Ku)-(2*G))/(2*((3*Ku)+G));\n",
    "B = (3*(nu_u-nu)) / (biot * (1-(2*nu)) * (1+nu_u));\n",
    "gamma = (B*(1+nu_u))/(3*(1-nu_u));\n",
    "\n",
    "% Rock Hydraulic Properties\n",
    "k = 4e-14;\n",
    "c = k/(mu*M_inv);"
   ]
  }
 ],
 "metadata": {
  "language_info": {
   "name": "python"
  }
 },
 "nbformat": 4,
 "nbformat_minor": 2
}
